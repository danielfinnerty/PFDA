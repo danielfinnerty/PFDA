{
 "cells": [
  {
   "cell_type": "markdown",
   "id": "d2b54169",
   "metadata": {},
   "source": [
    "# Assignment 05 - Population\n",
    "By: Daniel Finnerty\n",
    "\n",
    "The purpose of this notebook is to analyse the differences between the sexes by age in Ireland. Data is gathered from the below CSO location:\n",
    "\n",
    "https://ws.cso.ie/public/api.restful/PxStat.Data.Cube_API.ReadDataset/FY006A/CSV/1.0/en\n",
    "\n"
   ]
  },
  {
   "cell_type": "markdown",
   "id": "7b53074a",
   "metadata": {},
   "source": [
    "## Process"
   ]
  },
  {
   "cell_type": "markdown",
   "id": "36803c7b",
   "metadata": {},
   "source": [
    "Import required package for effective operation of notebook."
   ]
  },
  {
   "cell_type": "code",
   "execution_count": 47,
   "id": "fe8eb5b1",
   "metadata": {},
   "outputs": [],
   "source": [
    "# Import Pandas for data frames\n",
    "import pandas as pd"
   ]
  },
  {
   "cell_type": "markdown",
   "id": "455eaea8",
   "metadata": {},
   "source": [
    "Download data file as CSV"
   ]
  },
  {
   "cell_type": "code",
   "execution_count": 48,
   "id": "d7dc321b",
   "metadata": {},
   "outputs": [
    {
     "data": {
      "text/html": [
       "<div>\n",
       "<style scoped>\n",
       "    .dataframe tbody tr th:only-of-type {\n",
       "        vertical-align: middle;\n",
       "    }\n",
       "\n",
       "    .dataframe tbody tr th {\n",
       "        vertical-align: top;\n",
       "    }\n",
       "\n",
       "    .dataframe thead th {\n",
       "        text-align: right;\n",
       "    }\n",
       "</style>\n",
       "<table border=\"1\" class=\"dataframe\">\n",
       "  <thead>\n",
       "    <tr style=\"text-align: right;\">\n",
       "      <th></th>\n",
       "      <th>STATISTIC</th>\n",
       "      <th>Statistic Label</th>\n",
       "      <th>TLIST(A1)</th>\n",
       "      <th>CensusYear</th>\n",
       "      <th>C02199V02655</th>\n",
       "      <th>Sex</th>\n",
       "      <th>C02076V03371</th>\n",
       "      <th>Single Year of Age</th>\n",
       "      <th>C03789V04537</th>\n",
       "      <th>Administrative Counties</th>\n",
       "      <th>UNIT</th>\n",
       "      <th>VALUE</th>\n",
       "    </tr>\n",
       "  </thead>\n",
       "  <tbody>\n",
       "    <tr>\n",
       "      <th>0</th>\n",
       "      <td>FY006AC01</td>\n",
       "      <td>Population</td>\n",
       "      <td>2022</td>\n",
       "      <td>2022</td>\n",
       "      <td>-</td>\n",
       "      <td>Both sexes</td>\n",
       "      <td>-</td>\n",
       "      <td>All ages</td>\n",
       "      <td>IE0</td>\n",
       "      <td>Ireland</td>\n",
       "      <td>Number</td>\n",
       "      <td>5149139</td>\n",
       "    </tr>\n",
       "    <tr>\n",
       "      <th>1</th>\n",
       "      <td>FY006AC01</td>\n",
       "      <td>Population</td>\n",
       "      <td>2022</td>\n",
       "      <td>2022</td>\n",
       "      <td>-</td>\n",
       "      <td>Both sexes</td>\n",
       "      <td>-</td>\n",
       "      <td>All ages</td>\n",
       "      <td>2ae19629-1492-13a3-e055-000000000001</td>\n",
       "      <td>Carlow County Council</td>\n",
       "      <td>Number</td>\n",
       "      <td>61968</td>\n",
       "    </tr>\n",
       "    <tr>\n",
       "      <th>2</th>\n",
       "      <td>FY006AC01</td>\n",
       "      <td>Population</td>\n",
       "      <td>2022</td>\n",
       "      <td>2022</td>\n",
       "      <td>-</td>\n",
       "      <td>Both sexes</td>\n",
       "      <td>-</td>\n",
       "      <td>All ages</td>\n",
       "      <td>2ae19629-1433-13a3-e055-000000000001</td>\n",
       "      <td>Dublin City Council</td>\n",
       "      <td>Number</td>\n",
       "      <td>592713</td>\n",
       "    </tr>\n",
       "  </tbody>\n",
       "</table>\n",
       "</div>"
      ],
      "text/plain": [
       "   STATISTIC Statistic Label  TLIST(A1)  CensusYear C02199V02655         Sex  \\\n",
       "0  FY006AC01      Population       2022        2022            -  Both sexes   \n",
       "1  FY006AC01      Population       2022        2022            -  Both sexes   \n",
       "2  FY006AC01      Population       2022        2022            -  Both sexes   \n",
       "\n",
       "  C02076V03371 Single Year of Age                          C03789V04537  \\\n",
       "0            -           All ages                                   IE0   \n",
       "1            -           All ages  2ae19629-1492-13a3-e055-000000000001   \n",
       "2            -           All ages  2ae19629-1433-13a3-e055-000000000001   \n",
       "\n",
       "  Administrative Counties    UNIT    VALUE  \n",
       "0                 Ireland  Number  5149139  \n",
       "1   Carlow County Council  Number    61968  \n",
       "2     Dublin City Council  Number   592713  "
      ]
     },
     "execution_count": 48,
     "metadata": {},
     "output_type": "execute_result"
    }
   ],
   "source": [
    "# Data location\n",
    "url = \"https://ws.cso.ie/public/api.restful/PxStat.Data.Cube_API.ReadDataset/FY006A/CSV/1.0/en\"\n",
    "\n",
    "# Read CVS into a data frame\n",
    "df = pd.read_csv(url)\n",
    "\n",
    "# Show first 3 rows\n",
    "df.head(3)"
   ]
  },
  {
   "cell_type": "code",
   "execution_count": 49,
   "id": "99753f6f",
   "metadata": {},
   "outputs": [
    {
     "data": {
      "text/html": [
       "<div>\n",
       "<style scoped>\n",
       "    .dataframe tbody tr th:only-of-type {\n",
       "        vertical-align: middle;\n",
       "    }\n",
       "\n",
       "    .dataframe tbody tr th {\n",
       "        vertical-align: top;\n",
       "    }\n",
       "\n",
       "    .dataframe thead th {\n",
       "        text-align: right;\n",
       "    }\n",
       "</style>\n",
       "<table border=\"1\" class=\"dataframe\">\n",
       "  <thead>\n",
       "    <tr style=\"text-align: right;\">\n",
       "      <th></th>\n",
       "      <th>STATISTIC</th>\n",
       "      <th>Statistic Label</th>\n",
       "      <th>TLIST(A1)</th>\n",
       "      <th>CensusYear</th>\n",
       "      <th>C02199V02655</th>\n",
       "      <th>Sex</th>\n",
       "      <th>C02076V03371</th>\n",
       "      <th>Single Year of Age</th>\n",
       "      <th>C03789V04537</th>\n",
       "      <th>Administrative Counties</th>\n",
       "      <th>UNIT</th>\n",
       "      <th>VALUE</th>\n",
       "    </tr>\n",
       "  </thead>\n",
       "  <tbody>\n",
       "    <tr>\n",
       "      <th>9789</th>\n",
       "      <td>FY006AC01</td>\n",
       "      <td>Population</td>\n",
       "      <td>2022</td>\n",
       "      <td>2022</td>\n",
       "      <td>2</td>\n",
       "      <td>Female</td>\n",
       "      <td>650</td>\n",
       "      <td>100 years and over</td>\n",
       "      <td>2ae19629-149d-13a3-e055-000000000001</td>\n",
       "      <td>Cavan County Council</td>\n",
       "      <td>Number</td>\n",
       "      <td>12</td>\n",
       "    </tr>\n",
       "    <tr>\n",
       "      <th>9790</th>\n",
       "      <td>FY006AC01</td>\n",
       "      <td>Population</td>\n",
       "      <td>2022</td>\n",
       "      <td>2022</td>\n",
       "      <td>2</td>\n",
       "      <td>Female</td>\n",
       "      <td>650</td>\n",
       "      <td>100 years and over</td>\n",
       "      <td>2ae19629-14a4-13a3-e055-000000000001</td>\n",
       "      <td>Donegal County Council</td>\n",
       "      <td>Number</td>\n",
       "      <td>31</td>\n",
       "    </tr>\n",
       "    <tr>\n",
       "      <th>9791</th>\n",
       "      <td>FY006AC01</td>\n",
       "      <td>Population</td>\n",
       "      <td>2022</td>\n",
       "      <td>2022</td>\n",
       "      <td>2</td>\n",
       "      <td>Female</td>\n",
       "      <td>650</td>\n",
       "      <td>100 years and over</td>\n",
       "      <td>2ae19629-1495-13a3-e055-000000000001</td>\n",
       "      <td>Monaghan County Council</td>\n",
       "      <td>Number</td>\n",
       "      <td>7</td>\n",
       "    </tr>\n",
       "  </tbody>\n",
       "</table>\n",
       "</div>"
      ],
      "text/plain": [
       "      STATISTIC Statistic Label  TLIST(A1)  CensusYear C02199V02655     Sex  \\\n",
       "9789  FY006AC01      Population       2022        2022            2  Female   \n",
       "9790  FY006AC01      Population       2022        2022            2  Female   \n",
       "9791  FY006AC01      Population       2022        2022            2  Female   \n",
       "\n",
       "     C02076V03371  Single Year of Age                          C03789V04537  \\\n",
       "9789          650  100 years and over  2ae19629-149d-13a3-e055-000000000001   \n",
       "9790          650  100 years and over  2ae19629-14a4-13a3-e055-000000000001   \n",
       "9791          650  100 years and over  2ae19629-1495-13a3-e055-000000000001   \n",
       "\n",
       "      Administrative Counties    UNIT  VALUE  \n",
       "9789     Cavan County Council  Number     12  \n",
       "9790   Donegal County Council  Number     31  \n",
       "9791  Monaghan County Council  Number      7  "
      ]
     },
     "execution_count": 49,
     "metadata": {},
     "output_type": "execute_result"
    }
   ],
   "source": [
    "# Show last 3 rows\n",
    "df.tail(3)"
   ]
  },
  {
   "cell_type": "markdown",
   "id": "77dcae4b",
   "metadata": {},
   "source": [
    "To determine the weighted mean age by sex, the 'Both sexes' information can be removed."
   ]
  },
  {
   "cell_type": "code",
   "execution_count": 50,
   "id": "ae5e407b",
   "metadata": {},
   "outputs": [
    {
     "data": {
      "text/html": [
       "<div>\n",
       "<style scoped>\n",
       "    .dataframe tbody tr th:only-of-type {\n",
       "        vertical-align: middle;\n",
       "    }\n",
       "\n",
       "    .dataframe tbody tr th {\n",
       "        vertical-align: top;\n",
       "    }\n",
       "\n",
       "    .dataframe thead th {\n",
       "        text-align: right;\n",
       "    }\n",
       "</style>\n",
       "<table border=\"1\" class=\"dataframe\">\n",
       "  <thead>\n",
       "    <tr style=\"text-align: right;\">\n",
       "      <th></th>\n",
       "      <th>STATISTIC</th>\n",
       "      <th>Statistic Label</th>\n",
       "      <th>TLIST(A1)</th>\n",
       "      <th>CensusYear</th>\n",
       "      <th>C02199V02655</th>\n",
       "      <th>Sex</th>\n",
       "      <th>C02076V03371</th>\n",
       "      <th>Single Year of Age</th>\n",
       "      <th>C03789V04537</th>\n",
       "      <th>Administrative Counties</th>\n",
       "      <th>UNIT</th>\n",
       "      <th>VALUE</th>\n",
       "    </tr>\n",
       "  </thead>\n",
       "  <tbody>\n",
       "    <tr>\n",
       "      <th>3296</th>\n",
       "      <td>FY006AC01</td>\n",
       "      <td>Population</td>\n",
       "      <td>2022</td>\n",
       "      <td>2022</td>\n",
       "      <td>1</td>\n",
       "      <td>Male</td>\n",
       "      <td>200</td>\n",
       "      <td>Under 1 year</td>\n",
       "      <td>IE0</td>\n",
       "      <td>Ireland</td>\n",
       "      <td>Number</td>\n",
       "      <td>29610</td>\n",
       "    </tr>\n",
       "    <tr>\n",
       "      <th>3328</th>\n",
       "      <td>FY006AC01</td>\n",
       "      <td>Population</td>\n",
       "      <td>2022</td>\n",
       "      <td>2022</td>\n",
       "      <td>1</td>\n",
       "      <td>Male</td>\n",
       "      <td>001</td>\n",
       "      <td>1 year</td>\n",
       "      <td>IE0</td>\n",
       "      <td>Ireland</td>\n",
       "      <td>Number</td>\n",
       "      <td>28875</td>\n",
       "    </tr>\n",
       "    <tr>\n",
       "      <th>3360</th>\n",
       "      <td>FY006AC01</td>\n",
       "      <td>Population</td>\n",
       "      <td>2022</td>\n",
       "      <td>2022</td>\n",
       "      <td>1</td>\n",
       "      <td>Male</td>\n",
       "      <td>002</td>\n",
       "      <td>2 years</td>\n",
       "      <td>IE0</td>\n",
       "      <td>Ireland</td>\n",
       "      <td>Number</td>\n",
       "      <td>30236</td>\n",
       "    </tr>\n",
       "  </tbody>\n",
       "</table>\n",
       "</div>"
      ],
      "text/plain": [
       "      STATISTIC Statistic Label  TLIST(A1)  CensusYear C02199V02655   Sex  \\\n",
       "3296  FY006AC01      Population       2022        2022            1  Male   \n",
       "3328  FY006AC01      Population       2022        2022            1  Male   \n",
       "3360  FY006AC01      Population       2022        2022            1  Male   \n",
       "\n",
       "     C02076V03371 Single Year of Age C03789V04537 Administrative Counties  \\\n",
       "3296          200       Under 1 year          IE0                 Ireland   \n",
       "3328          001             1 year          IE0                 Ireland   \n",
       "3360          002            2 years          IE0                 Ireland   \n",
       "\n",
       "        UNIT  VALUE  \n",
       "3296  Number  29610  \n",
       "3328  Number  28875  \n",
       "3360  Number  30236  "
      ]
     },
     "execution_count": 50,
     "metadata": {},
     "output_type": "execute_result"
    }
   ],
   "source": [
    "# Show only data that does not have 'Both sexes' in the Sex column\n",
    "df = df[df[\"Sex\"] != \"Both sexes\"]\n",
    "\n",
    "# And data that does not have 'All ages' in the Single Year of Age column\n",
    "df = df[df[\"Single Year of Age\"] != \"All ages\"]\n",
    "\n",
    "df = df[df[\"Administrative Counties\"] == \"Ireland\"]\n",
    "\n",
    "# Show first 3 rows to confirm\n",
    "df.head(3)"
   ]
  },
  {
   "cell_type": "markdown",
   "id": "f5a27e1e",
   "metadata": {},
   "source": [
    "The age now also needs to be converted solely to integers."
   ]
  },
  {
   "cell_type": "code",
   "execution_count": 51,
   "id": "6fba538b",
   "metadata": {},
   "outputs": [
    {
     "name": "stdout",
     "output_type": "stream",
     "text": [
      "<class 'pandas.core.frame.DataFrame'>\n",
      "Index: 202 entries, 3296 to 9760\n",
      "Data columns (total 12 columns):\n",
      " #   Column                   Non-Null Count  Dtype \n",
      "---  ------                   --------------  ----- \n",
      " 0   STATISTIC                202 non-null    object\n",
      " 1   Statistic Label          202 non-null    object\n",
      " 2   TLIST(A1)                202 non-null    int64 \n",
      " 3   CensusYear               202 non-null    int64 \n",
      " 4   C02199V02655             202 non-null    object\n",
      " 5   Sex                      202 non-null    object\n",
      " 6   C02076V03371             202 non-null    object\n",
      " 7   Single Year of Age       202 non-null    int64 \n",
      " 8   C03789V04537             202 non-null    object\n",
      " 9   Administrative Counties  202 non-null    object\n",
      " 10  UNIT                     202 non-null    object\n",
      " 11  VALUE                    202 non-null    int64 \n",
      "dtypes: int64(4), object(8)\n",
      "memory usage: 20.5+ KB\n"
     ]
    },
    {
     "name": "stderr",
     "output_type": "stream",
     "text": [
      "<>:5: SyntaxWarning: invalid escape sequence '\\D'\n",
      "<>:5: SyntaxWarning: invalid escape sequence '\\D'\n",
      "C:\\Users\\danie\\AppData\\Local\\Temp\\ipykernel_19292\\2827833747.py:5: SyntaxWarning: invalid escape sequence '\\D'\n",
      "  df[\"Single Year of Age\"] = df[\"Single Year of Age\"].str.replace('\\D', '', regex=True)\n"
     ]
    }
   ],
   "source": [
    "# Change 'Under 1 year' to '0'\n",
    "df[\"Single Year of Age\"] = df[\"Single Year of Age\"].str.replace('Under 1 year', '0')\n",
    "\n",
    "# Remove all non-digit characters, leaving only the number\n",
    "df[\"Single Year of Age\"] = df[\"Single Year of Age\"].str.replace('\\D', '', regex=True)\n",
    "\n",
    "# Convert all age values to 64-bit integers\n",
    "df['Single Year of Age']=df['Single Year of Age'].astype('int64')\n",
    "\n",
    "# Convert all 'Value' numbers to 64-bit integers\n",
    "df['VALUE']=df['VALUE'].astype('int64')\n",
    "\n",
    "df.info()"
   ]
  },
  {
   "cell_type": "markdown",
   "id": "eb5cef48",
   "metadata": {},
   "source": [
    "With this done, the data can now be simplified, by removing unnecessary columns"
   ]
  },
  {
   "cell_type": "code",
   "execution_count": 52,
   "id": "440cd5fb",
   "metadata": {},
   "outputs": [
    {
     "data": {
      "text/plain": [
       "['STATISTIC',\n",
       " 'Statistic Label',\n",
       " 'TLIST(A1)',\n",
       " 'CensusYear',\n",
       " 'C02199V02655',\n",
       " 'Sex',\n",
       " 'C02076V03371',\n",
       " 'Single Year of Age',\n",
       " 'C03789V04537',\n",
       " 'Administrative Counties',\n",
       " 'UNIT',\n",
       " 'VALUE']"
      ]
     },
     "execution_count": 52,
     "metadata": {},
     "output_type": "execute_result"
    }
   ],
   "source": [
    "# Comfirm all column names\n",
    "headers = df.columns.tolist()\n",
    "\n",
    "# Show list\n",
    "headers"
   ]
  },
  {
   "cell_type": "code",
   "execution_count": 53,
   "id": "af57e3bd",
   "metadata": {},
   "outputs": [
    {
     "name": "stdout",
     "output_type": "stream",
     "text": [
      "<class 'pandas.core.frame.DataFrame'>\n",
      "Index: 202 entries, 3296 to 9760\n",
      "Data columns (total 4 columns):\n",
      " #   Column                   Non-Null Count  Dtype \n",
      "---  ------                   --------------  ----- \n",
      " 0   Sex                      202 non-null    object\n",
      " 1   Single Year of Age       202 non-null    int64 \n",
      " 2   Administrative Counties  202 non-null    object\n",
      " 3   VALUE                    202 non-null    int64 \n",
      "dtypes: int64(2), object(2)\n",
      "memory usage: 7.9+ KB\n"
     ]
    }
   ],
   "source": [
    "# Remove unrequired columns\n",
    "drop_col_list = ['STATISTIC', 'Statistic Label','TLIST(A1)','CensusYear','C02199V02655','C02076V03371','C03789V04537','UNIT']\n",
    "df.drop(columns=drop_col_list, inplace=True)\n",
    "\n",
    "#print (df.head(3))\n",
    "df.info()"
   ]
  },
  {
   "cell_type": "code",
   "execution_count": 54,
   "id": "aa4e4e1a",
   "metadata": {},
   "outputs": [
    {
     "name": "stdout",
     "output_type": "stream",
     "text": [
      "Sex                  Female     Male\n",
      "Single Year of Age                  \n",
      "0                   28186.0  29610.0\n",
      "1                   27545.0  28875.0\n",
      "2                   28974.0  30236.0\n"
     ]
    }
   ],
   "source": [
    "df_anal = pd.pivot_table(df, 'VALUE',\"Single Year of Age\",\"Sex\")\n",
    "print (df_anal.head(3))\n",
    "# write out the entire file to local machine\n",
    "#df_anal.to_csv(\"population_for_analysis.csv\")"
   ]
  },
  {
   "cell_type": "code",
   "execution_count": 55,
   "id": "8d20d57c",
   "metadata": {},
   "outputs": [
    {
     "data": {
      "text/html": [
       "<div>\n",
       "<style scoped>\n",
       "    .dataframe tbody tr th:only-of-type {\n",
       "        vertical-align: middle;\n",
       "    }\n",
       "\n",
       "    .dataframe tbody tr th {\n",
       "        vertical-align: top;\n",
       "    }\n",
       "\n",
       "    .dataframe thead th {\n",
       "        text-align: right;\n",
       "    }\n",
       "</style>\n",
       "<table border=\"1\" class=\"dataframe\">\n",
       "  <thead>\n",
       "    <tr style=\"text-align: right;\">\n",
       "      <th></th>\n",
       "      <th>Sex</th>\n",
       "      <th>Single Year of Age</th>\n",
       "      <th>Administrative Counties</th>\n",
       "      <th>VALUE</th>\n",
       "    </tr>\n",
       "  </thead>\n",
       "  <tbody>\n",
       "    <tr>\n",
       "      <th>3296</th>\n",
       "      <td>Male</td>\n",
       "      <td>0</td>\n",
       "      <td>Ireland</td>\n",
       "      <td>29610</td>\n",
       "    </tr>\n",
       "    <tr>\n",
       "      <th>3328</th>\n",
       "      <td>Male</td>\n",
       "      <td>1</td>\n",
       "      <td>Ireland</td>\n",
       "      <td>28875</td>\n",
       "    </tr>\n",
       "    <tr>\n",
       "      <th>3360</th>\n",
       "      <td>Male</td>\n",
       "      <td>2</td>\n",
       "      <td>Ireland</td>\n",
       "      <td>30236</td>\n",
       "    </tr>\n",
       "    <tr>\n",
       "      <th>3392</th>\n",
       "      <td>Male</td>\n",
       "      <td>3</td>\n",
       "      <td>Ireland</td>\n",
       "      <td>31001</td>\n",
       "    </tr>\n",
       "    <tr>\n",
       "      <th>3424</th>\n",
       "      <td>Male</td>\n",
       "      <td>4</td>\n",
       "      <td>Ireland</td>\n",
       "      <td>31686</td>\n",
       "    </tr>\n",
       "  </tbody>\n",
       "</table>\n",
       "</div>"
      ],
      "text/plain": [
       "       Sex  Single Year of Age Administrative Counties  VALUE\n",
       "3296  Male                   0                 Ireland  29610\n",
       "3328  Male                   1                 Ireland  28875\n",
       "3360  Male                   2                 Ireland  30236\n",
       "3392  Male                   3                 Ireland  31001\n",
       "3424  Male                   4                 Ireland  31686"
      ]
     },
     "execution_count": 55,
     "metadata": {},
     "output_type": "execute_result"
    }
   ],
   "source": [
    "df.head()"
   ]
  },
  {
   "cell_type": "code",
   "execution_count": null,
   "id": "c2ce286e",
   "metadata": {},
   "outputs": [],
   "source": []
  }
 ],
 "metadata": {
  "kernelspec": {
   "display_name": "base",
   "language": "python",
   "name": "python3"
  },
  "language_info": {
   "codemirror_mode": {
    "name": "ipython",
    "version": 3
   },
   "file_extension": ".py",
   "mimetype": "text/x-python",
   "name": "python",
   "nbconvert_exporter": "python",
   "pygments_lexer": "ipython3",
   "version": "3.12.7"
  }
 },
 "nbformat": 4,
 "nbformat_minor": 5
}
