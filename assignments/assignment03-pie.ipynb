{
 "cells": [
  {
   "cell_type": "markdown",
   "id": "e04162d6",
   "metadata": {},
   "source": [
    "# Assignment 03 - Pie Chart\n",
    "\n",
    "The purpose of this notebook is to create a pie chart of the email domains from a CSV file at the below location\n",
    "\n",
    "### Link: https://drive.google.com/uc?id=1AWPf-pJodJKeHsARQK_RHiNsE8fjPCVK&export=download"
   ]
  },
  {
   "cell_type": "markdown",
   "id": "1b682ec5",
   "metadata": {},
   "source": [
    "## Process"
   ]
  },
  {
   "cell_type": "markdown",
   "id": "e3a1d4d7",
   "metadata": {},
   "source": []
  }
 ],
 "metadata": {
  "language_info": {
   "name": "python"
  }
 },
 "nbformat": 4,
 "nbformat_minor": 5
}
